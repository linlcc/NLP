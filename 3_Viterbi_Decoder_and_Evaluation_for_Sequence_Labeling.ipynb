{
  "nbformat": 4,
  "nbformat_minor": 0,
  "metadata": {
    "colab": {
      "name": "3_Viterbi Decoder and Evaluation for Sequence Labeling.ipynb",
      "provenance": [],
      "collapsed_sections": [],
      "include_colab_link": true
    },
    "kernelspec": {
      "name": "python3",
      "display_name": "Python 3"
    },
    "accelerator": "GPU"
  },
  "cells": [
    {
      "cell_type": "markdown",
      "metadata": {
        "id": "view-in-github",
        "colab_type": "text"
      },
      "source": [
        "<a href=\"https://colab.research.google.com/github/linlcc/NLP/blob/master/3_Viterbi_Decoder_and_Evaluation_for_Sequence_Labeling.ipynb\" target=\"_parent\"><img src=\"https://colab.research.google.com/assets/colab-badge.svg\" alt=\"Open In Colab\"/></a>"
      ]
    },
    {
      "cell_type": "markdown",
      "metadata": {
        "id": "IsY0LJOIT_cG",
        "colab_type": "text"
      },
      "source": [
        "# Implementing a Viterbi Decoder and Evaluation for Sequence Labeling\n",
        "\n",
        "In this assignment, I will build a Viterbi decoder for an LSTM named-entity recognition model. As we knew, recurrent and bidirectional recurrent neural networks, of which LSTMs are the most common examples, can be used to perform sequence labeling. Although these models encode information from the surrounding words in order to make predictions, there are no \"hard\" constraints on what tags can appear where.\n",
        "\n",
        "There hard constraints are particularly important for tasks that label spans of more than one token. The most common example of a span-labeling task is named-entity recognition (NER). As described in Eisenstein, Jurafksy & Martin, and other texts, the goal of NER is to label spans of one or more words as _mentions_ of an _entity_, such as a person, location, organization, etc.\n",
        "\n",
        "The most common approach to NER is to reduce it to a sequence-labeling task, where each token in the input is labeled either with an `O`, if it is \"outside\" any named-entity span, or with `B-TYPE`, if it is the first token in an entity of type `TYPE`, or with `I-TYPE`, if it is the second or later token in an entity of type `TYPE`. Distinguishing between the first and later tokens of an entity allow us to identify distinct entity spans even when they are adjacent.\n",
        "\n",
        "Common values of `TYPE` include `PER` for person, `LOC` for location, `DATE` for date, and so on. In the dataset we load below, there are 17 distinct types.\n",
        "\n",
        "The span-labeling scheme just described implies that the labels on tokens must obey certain constraints: the tag `I-PER` must follow either `B-PER` or another `I-PER`. I cannot follow `O`, `B-LOC`, or `I-LOC`, i.e., a tag for a different entity type. By themselves, LSTMs or bidirectional LSTMs cannot directly enforce these constraints. This is one reason why conditional random fields (CRFs), which _can_ enforce these constraints, are often layered on top of these recurrent models.\n",
        "\n",
        "Therefore, I will implement the simplest possible CRF: a CRF so simple that it does not require any training. Rather, it will assign weight 1 to any sequence of tags that obeys the constraints and weight 0 to any sequence of tags that violates them. The inputs to the CRF, which are analogous to the emission probabilities in an HMM, will come from an LSTM.\n",
        "\n",
        "But first, in order to test your decoder, I will also implement some functions to evaluate the output of an NER system according to two metrics:\n",
        "1. I will count the number of _violations_ of the NER label constraints, i.e., how many times `I-TYPE` follows `O` or a tag of a different type. This number will be greater than 0 in the raw LSTM output, but should be 0 for your CRF output.\n",
        "1. I will compute the _span-level_ precision, recall, and F1 of NER output. Although the baseline LSTM was trained to achieve high _token-level_ accuracy, this metric can be misleadingly high, since so many tokens are correctly labeled `O`. In other words, what proportion of spans predicted by the model line up exactly with spans in the gold standard, and what proportion of spans in the gold standard were predicted by the model? For more, see the original task definition: https://www.aclweb.org/anthology/W03-0419/.\n",
        "\n",
        "We start with loading some code and data and the describe your tasks in more detail."
      ]
    },
    {
      "cell_type": "markdown",
      "metadata": {
        "id": "Dhnn49QEU_Ik",
        "colab_type": "text"
      },
      "source": [
        "## Set Up Dependencies and Definitions"
      ]
    },
    {
      "cell_type": "code",
      "metadata": {
        "id": "HcXEtarEDXas",
        "colab_type": "code",
        "outputId": "d4ea36ff-79e8-476e-a001-a6ca47cb5fa3",
        "colab": {
          "base_uri": "https://localhost:8080/",
          "height": 306
        }
      },
      "source": [
        "!pip install seqeval"
      ],
      "execution_count": 0,
      "outputs": [
        {
          "output_type": "stream",
          "text": [
            "Collecting seqeval\n",
            "  Downloading https://files.pythonhosted.org/packages/34/91/068aca8d60ce56dd9ba4506850e876aba5e66a6f2f29aa223224b50df0de/seqeval-0.0.12.tar.gz\n",
            "Requirement already satisfied: numpy>=1.14.0 in /usr/local/lib/python3.6/dist-packages (from seqeval) (1.18.2)\n",
            "Requirement already satisfied: Keras>=2.2.4 in /usr/local/lib/python3.6/dist-packages (from seqeval) (2.2.5)\n",
            "Requirement already satisfied: h5py in /usr/local/lib/python3.6/dist-packages (from Keras>=2.2.4->seqeval) (2.10.0)\n",
            "Requirement already satisfied: keras-applications>=1.0.8 in /usr/local/lib/python3.6/dist-packages (from Keras>=2.2.4->seqeval) (1.0.8)\n",
            "Requirement already satisfied: pyyaml in /usr/local/lib/python3.6/dist-packages (from Keras>=2.2.4->seqeval) (3.13)\n",
            "Requirement already satisfied: keras-preprocessing>=1.1.0 in /usr/local/lib/python3.6/dist-packages (from Keras>=2.2.4->seqeval) (1.1.0)\n",
            "Requirement already satisfied: scipy>=0.14 in /usr/local/lib/python3.6/dist-packages (from Keras>=2.2.4->seqeval) (1.4.1)\n",
            "Requirement already satisfied: six>=1.9.0 in /usr/local/lib/python3.6/dist-packages (from Keras>=2.2.4->seqeval) (1.12.0)\n",
            "Building wheels for collected packages: seqeval\n",
            "  Building wheel for seqeval (setup.py) ... \u001b[?25l\u001b[?25hdone\n",
            "  Created wheel for seqeval: filename=seqeval-0.0.12-cp36-none-any.whl size=7424 sha256=71f213ebba9ef790503decf099282c99dc0872a53ff19a09dfe5316f8891b6b6\n",
            "  Stored in directory: /root/.cache/pip/wheels/4f/32/0a/df3b340a82583566975377d65e724895b3fad101a3fb729f68\n",
            "Successfully built seqeval\n",
            "Installing collected packages: seqeval\n",
            "Successfully installed seqeval-0.0.12\n"
          ],
          "name": "stdout"
        }
      ]
    },
    {
      "cell_type": "code",
      "metadata": {
        "id": "QJINX1MwOLBT",
        "colab_type": "code",
        "outputId": "166a4f75-a431-467a-d686-0cc6aaf18e07",
        "colab": {
          "base_uri": "https://localhost:8080/",
          "height": 1000
        }
      },
      "source": [
        "!pip install --upgrade spacy allennlp\n",
        "import spacy\n",
        "print(spacy.__version__)"
      ],
      "execution_count": 0,
      "outputs": [
        {
          "output_type": "stream",
          "text": [
            "Requirement already up-to-date: spacy in /usr/local/lib/python3.6/dist-packages (2.2.4)\n",
            "Requirement already up-to-date: allennlp in /usr/local/lib/python3.6/dist-packages (0.9.0)\n",
            "Requirement already satisfied, skipping upgrade: tqdm<5.0.0,>=4.38.0 in /usr/local/lib/python3.6/dist-packages (from spacy) (4.38.0)\n",
            "Requirement already satisfied, skipping upgrade: numpy>=1.15.0 in /usr/local/lib/python3.6/dist-packages (from spacy) (1.18.2)\n",
            "Requirement already satisfied, skipping upgrade: blis<0.5.0,>=0.4.0 in /usr/local/lib/python3.6/dist-packages (from spacy) (0.4.1)\n",
            "Requirement already satisfied, skipping upgrade: requests<3.0.0,>=2.13.0 in /usr/local/lib/python3.6/dist-packages (from spacy) (2.21.0)\n",
            "Requirement already satisfied, skipping upgrade: cymem<2.1.0,>=2.0.2 in /usr/local/lib/python3.6/dist-packages (from spacy) (2.0.3)\n",
            "Requirement already satisfied, skipping upgrade: preshed<3.1.0,>=3.0.2 in /usr/local/lib/python3.6/dist-packages (from spacy) (3.0.2)\n",
            "Requirement already satisfied, skipping upgrade: setuptools in /usr/local/lib/python3.6/dist-packages (from spacy) (46.0.0)\n",
            "Requirement already satisfied, skipping upgrade: plac<1.2.0,>=0.9.6 in /usr/local/lib/python3.6/dist-packages (from spacy) (1.1.3)\n",
            "Requirement already satisfied, skipping upgrade: wasabi<1.1.0,>=0.4.0 in /usr/local/lib/python3.6/dist-packages (from spacy) (0.6.0)\n",
            "Requirement already satisfied, skipping upgrade: murmurhash<1.1.0,>=0.28.0 in /usr/local/lib/python3.6/dist-packages (from spacy) (1.0.2)\n",
            "Requirement already satisfied, skipping upgrade: thinc==7.4.0 in /usr/local/lib/python3.6/dist-packages (from spacy) (7.4.0)\n",
            "Requirement already satisfied, skipping upgrade: catalogue<1.1.0,>=0.0.7 in /usr/local/lib/python3.6/dist-packages (from spacy) (1.0.0)\n",
            "Requirement already satisfied, skipping upgrade: srsly<1.1.0,>=1.0.2 in /usr/local/lib/python3.6/dist-packages (from spacy) (1.0.2)\n",
            "Requirement already satisfied, skipping upgrade: responses>=0.7 in /usr/local/lib/python3.6/dist-packages (from allennlp) (0.10.12)\n",
            "Requirement already satisfied, skipping upgrade: conllu==1.3.1 in /usr/local/lib/python3.6/dist-packages (from allennlp) (1.3.1)\n",
            "Requirement already satisfied, skipping upgrade: pytest in /usr/local/lib/python3.6/dist-packages (from allennlp) (3.6.4)\n",
            "Requirement already satisfied, skipping upgrade: word2number>=1.1 in /usr/local/lib/python3.6/dist-packages (from allennlp) (1.1)\n",
            "Requirement already satisfied, skipping upgrade: scipy in /usr/local/lib/python3.6/dist-packages (from allennlp) (1.4.1)\n",
            "Requirement already satisfied, skipping upgrade: jsonnet>=0.10.0; sys_platform != \"win32\" in /usr/local/lib/python3.6/dist-packages (from allennlp) (0.15.0)\n",
            "Requirement already satisfied, skipping upgrade: matplotlib>=2.2.3 in /usr/local/lib/python3.6/dist-packages (from allennlp) (3.2.1)\n",
            "Requirement already satisfied, skipping upgrade: flask-cors>=3.0.7 in /usr/local/lib/python3.6/dist-packages (from allennlp) (3.0.8)\n",
            "Requirement already satisfied, skipping upgrade: editdistance in /usr/local/lib/python3.6/dist-packages (from allennlp) (0.5.3)\n",
            "Requirement already satisfied, skipping upgrade: unidecode in /usr/local/lib/python3.6/dist-packages (from allennlp) (1.1.1)\n",
            "Requirement already satisfied, skipping upgrade: pytorch-pretrained-bert>=0.6.0 in /usr/local/lib/python3.6/dist-packages (from allennlp) (0.6.2)\n",
            "Requirement already satisfied, skipping upgrade: tensorboardX>=1.2 in /usr/local/lib/python3.6/dist-packages (from allennlp) (2.0)\n",
            "Requirement already satisfied, skipping upgrade: flask>=1.0.2 in /usr/local/lib/python3.6/dist-packages (from allennlp) (1.1.1)\n",
            "Requirement already satisfied, skipping upgrade: jsonpickle in /usr/local/lib/python3.6/dist-packages (from allennlp) (1.3)\n",
            "Requirement already satisfied, skipping upgrade: numpydoc>=0.8.0 in /usr/local/lib/python3.6/dist-packages (from allennlp) (0.9.2)\n",
            "Requirement already satisfied, skipping upgrade: boto3 in /usr/local/lib/python3.6/dist-packages (from allennlp) (1.12.31)\n",
            "Requirement already satisfied, skipping upgrade: sqlparse>=0.2.4 in /usr/local/lib/python3.6/dist-packages (from allennlp) (0.3.1)\n",
            "Requirement already satisfied, skipping upgrade: nltk in /usr/local/lib/python3.6/dist-packages (from allennlp) (3.2.5)\n",
            "Requirement already satisfied, skipping upgrade: pytz>=2017.3 in /usr/local/lib/python3.6/dist-packages (from allennlp) (2018.9)\n",
            "Requirement already satisfied, skipping upgrade: pytorch-transformers==1.1.0 in /usr/local/lib/python3.6/dist-packages (from allennlp) (1.1.0)\n",
            "Requirement already satisfied, skipping upgrade: overrides in /usr/local/lib/python3.6/dist-packages (from allennlp) (2.8.0)\n",
            "Requirement already satisfied, skipping upgrade: parsimonious>=0.8.0 in /usr/local/lib/python3.6/dist-packages (from allennlp) (0.8.1)\n",
            "Requirement already satisfied, skipping upgrade: torch>=1.2.0 in /usr/local/lib/python3.6/dist-packages (from allennlp) (1.4.0)\n",
            "Requirement already satisfied, skipping upgrade: scikit-learn in /usr/local/lib/python3.6/dist-packages (from allennlp) (0.22.2.post1)\n",
            "Requirement already satisfied, skipping upgrade: flaky in /usr/local/lib/python3.6/dist-packages (from allennlp) (3.6.1)\n",
            "Requirement already satisfied, skipping upgrade: gevent>=1.3.6 in /usr/local/lib/python3.6/dist-packages (from allennlp) (1.4.0)\n",
            "Requirement already satisfied, skipping upgrade: h5py in /usr/local/lib/python3.6/dist-packages (from allennlp) (2.10.0)\n",
            "Requirement already satisfied, skipping upgrade: ftfy in /usr/local/lib/python3.6/dist-packages (from allennlp) (5.7)\n",
            "Requirement already satisfied, skipping upgrade: idna<2.9,>=2.5 in /usr/local/lib/python3.6/dist-packages (from requests<3.0.0,>=2.13.0->spacy) (2.8)\n",
            "Requirement already satisfied, skipping upgrade: urllib3<1.25,>=1.21.1 in /usr/local/lib/python3.6/dist-packages (from requests<3.0.0,>=2.13.0->spacy) (1.24.3)\n",
            "Requirement already satisfied, skipping upgrade: chardet<3.1.0,>=3.0.2 in /usr/local/lib/python3.6/dist-packages (from requests<3.0.0,>=2.13.0->spacy) (3.0.4)\n",
            "Requirement already satisfied, skipping upgrade: certifi>=2017.4.17 in /usr/local/lib/python3.6/dist-packages (from requests<3.0.0,>=2.13.0->spacy) (2019.11.28)\n",
            "Requirement already satisfied, skipping upgrade: importlib-metadata>=0.20; python_version < \"3.8\" in /usr/local/lib/python3.6/dist-packages (from catalogue<1.1.0,>=0.0.7->spacy) (1.6.0)\n",
            "Requirement already satisfied, skipping upgrade: six in /usr/local/lib/python3.6/dist-packages (from responses>=0.7->allennlp) (1.12.0)\n",
            "Requirement already satisfied, skipping upgrade: pluggy<0.8,>=0.5 in /usr/local/lib/python3.6/dist-packages (from pytest->allennlp) (0.7.1)\n",
            "Requirement already satisfied, skipping upgrade: attrs>=17.4.0 in /usr/local/lib/python3.6/dist-packages (from pytest->allennlp) (19.3.0)\n",
            "Requirement already satisfied, skipping upgrade: py>=1.5.0 in /usr/local/lib/python3.6/dist-packages (from pytest->allennlp) (1.8.1)\n",
            "Requirement already satisfied, skipping upgrade: more-itertools>=4.0.0 in /usr/local/lib/python3.6/dist-packages (from pytest->allennlp) (8.2.0)\n",
            "Requirement already satisfied, skipping upgrade: atomicwrites>=1.0 in /usr/local/lib/python3.6/dist-packages (from pytest->allennlp) (1.3.0)\n",
            "Requirement already satisfied, skipping upgrade: kiwisolver>=1.0.1 in /usr/local/lib/python3.6/dist-packages (from matplotlib>=2.2.3->allennlp) (1.1.0)\n",
            "Requirement already satisfied, skipping upgrade: python-dateutil>=2.1 in /usr/local/lib/python3.6/dist-packages (from matplotlib>=2.2.3->allennlp) (2.8.1)\n",
            "Requirement already satisfied, skipping upgrade: pyparsing!=2.0.4,!=2.1.2,!=2.1.6,>=2.0.1 in /usr/local/lib/python3.6/dist-packages (from matplotlib>=2.2.3->allennlp) (2.4.6)\n",
            "Requirement already satisfied, skipping upgrade: cycler>=0.10 in /usr/local/lib/python3.6/dist-packages (from matplotlib>=2.2.3->allennlp) (0.10.0)\n",
            "Requirement already satisfied, skipping upgrade: regex in /usr/local/lib/python3.6/dist-packages (from pytorch-pretrained-bert>=0.6.0->allennlp) (2019.12.20)\n",
            "Requirement already satisfied, skipping upgrade: protobuf>=3.8.0 in /usr/local/lib/python3.6/dist-packages (from tensorboardX>=1.2->allennlp) (3.10.0)\n",
            "Requirement already satisfied, skipping upgrade: click>=5.1 in /usr/local/lib/python3.6/dist-packages (from flask>=1.0.2->allennlp) (7.1.1)\n",
            "Requirement already satisfied, skipping upgrade: itsdangerous>=0.24 in /usr/local/lib/python3.6/dist-packages (from flask>=1.0.2->allennlp) (1.1.0)\n",
            "Requirement already satisfied, skipping upgrade: Jinja2>=2.10.1 in /usr/local/lib/python3.6/dist-packages (from flask>=1.0.2->allennlp) (2.11.1)\n",
            "Requirement already satisfied, skipping upgrade: Werkzeug>=0.15 in /usr/local/lib/python3.6/dist-packages (from flask>=1.0.2->allennlp) (1.0.0)\n",
            "Requirement already satisfied, skipping upgrade: sphinx>=1.6.5 in /usr/local/lib/python3.6/dist-packages (from numpydoc>=0.8.0->allennlp) (1.8.5)\n",
            "Requirement already satisfied, skipping upgrade: botocore<1.16.0,>=1.15.31 in /usr/local/lib/python3.6/dist-packages (from boto3->allennlp) (1.15.31)\n",
            "Requirement already satisfied, skipping upgrade: jmespath<1.0.0,>=0.7.1 in /usr/local/lib/python3.6/dist-packages (from boto3->allennlp) (0.9.5)\n",
            "Requirement already satisfied, skipping upgrade: s3transfer<0.4.0,>=0.3.0 in /usr/local/lib/python3.6/dist-packages (from boto3->allennlp) (0.3.3)\n",
            "Requirement already satisfied, skipping upgrade: sentencepiece in /usr/local/lib/python3.6/dist-packages (from pytorch-transformers==1.1.0->allennlp) (0.1.85)\n",
            "Requirement already satisfied, skipping upgrade: joblib>=0.11 in /usr/local/lib/python3.6/dist-packages (from scikit-learn->allennlp) (0.14.1)\n",
            "Requirement already satisfied, skipping upgrade: greenlet>=0.4.14; platform_python_implementation == \"CPython\" in /usr/local/lib/python3.6/dist-packages (from gevent>=1.3.6->allennlp) (0.4.15)\n",
            "Requirement already satisfied, skipping upgrade: wcwidth in /usr/local/lib/python3.6/dist-packages (from ftfy->allennlp) (0.1.9)\n",
            "Requirement already satisfied, skipping upgrade: zipp>=0.5 in /usr/local/lib/python3.6/dist-packages (from importlib-metadata>=0.20; python_version < \"3.8\"->catalogue<1.1.0,>=0.0.7->spacy) (3.1.0)\n",
            "Requirement already satisfied, skipping upgrade: MarkupSafe>=0.23 in /usr/local/lib/python3.6/dist-packages (from Jinja2>=2.10.1->flask>=1.0.2->allennlp) (1.1.1)\n",
            "Requirement already satisfied, skipping upgrade: packaging in /usr/local/lib/python3.6/dist-packages (from sphinx>=1.6.5->numpydoc>=0.8.0->allennlp) (20.3)\n",
            "Requirement already satisfied, skipping upgrade: docutils>=0.11 in /usr/local/lib/python3.6/dist-packages (from sphinx>=1.6.5->numpydoc>=0.8.0->allennlp) (0.15.2)\n",
            "Requirement already satisfied, skipping upgrade: sphinxcontrib-websupport in /usr/local/lib/python3.6/dist-packages (from sphinx>=1.6.5->numpydoc>=0.8.0->allennlp) (1.2.1)\n",
            "Requirement already satisfied, skipping upgrade: babel!=2.0,>=1.3 in /usr/local/lib/python3.6/dist-packages (from sphinx>=1.6.5->numpydoc>=0.8.0->allennlp) (2.8.0)\n",
            "Requirement already satisfied, skipping upgrade: snowballstemmer>=1.1 in /usr/local/lib/python3.6/dist-packages (from sphinx>=1.6.5->numpydoc>=0.8.0->allennlp) (2.0.0)\n",
            "Requirement already satisfied, skipping upgrade: Pygments>=2.0 in /usr/local/lib/python3.6/dist-packages (from sphinx>=1.6.5->numpydoc>=0.8.0->allennlp) (2.1.3)\n",
            "Requirement already satisfied, skipping upgrade: alabaster<0.8,>=0.7 in /usr/local/lib/python3.6/dist-packages (from sphinx>=1.6.5->numpydoc>=0.8.0->allennlp) (0.7.12)\n",
            "Requirement already satisfied, skipping upgrade: imagesize in /usr/local/lib/python3.6/dist-packages (from sphinx>=1.6.5->numpydoc>=0.8.0->allennlp) (1.2.0)\n",
            "2.2.4\n"
          ],
          "name": "stdout"
        }
      ]
    },
    {
      "cell_type": "code",
      "metadata": {
        "id": "f4zJfaIlJ2bv",
        "colab_type": "code",
        "outputId": "e77ea31c-f47f-4970-cc72-834934c6c06e",
        "colab": {
          "base_uri": "https://localhost:8080/",
          "height": 34
        }
      },
      "source": [
        "from typing import Iterator, List, Dict\n",
        "import torch\n",
        "import torch.optim as optim\n",
        "import numpy as np\n",
        "from allennlp.data import Instance\n",
        "from allennlp.data.fields import TextField, SequenceLabelField\n",
        "from allennlp.data.dataset_readers import DatasetReader\n",
        "from allennlp.common.file_utils import cached_path\n",
        "from allennlp.data.token_indexers import TokenIndexer, SingleIdTokenIndexer\n",
        "from allennlp.data.tokenizers import Token\n",
        "from allennlp.data.vocabulary import Vocabulary\n",
        "from allennlp.models import Model\n",
        "from allennlp.modules.text_field_embedders import TextFieldEmbedder, BasicTextFieldEmbedder\n",
        "from allennlp.modules.token_embedders import Embedding\n",
        "from allennlp.modules.seq2seq_encoders import Seq2SeqEncoder, PytorchSeq2SeqWrapper\n",
        "from allennlp.nn.util import get_text_field_mask, sequence_cross_entropy_with_logits\n",
        "from allennlp.training.metrics import CategoricalAccuracy\n",
        "from allennlp.data.iterators import BucketIterator\n",
        "from allennlp.training.trainer import Trainer\n",
        "from allennlp.predictors import SentenceTaggerPredictor\n",
        "from allennlp.data.dataset_readers import conll2003\n",
        "import math\n",
        "# from seqeval.metrics import precision_score, recall_score, f1_score, classification_report,accuracy_score\n",
        "torch.manual_seed(1)"
      ],
      "execution_count": 0,
      "outputs": [
        {
          "output_type": "execute_result",
          "data": {
            "text/plain": [
              "<torch._C.Generator at 0x7f52a1cd45d0>"
            ]
          },
          "metadata": {
            "tags": []
          },
          "execution_count": 3
        }
      ]
    },
    {
      "cell_type": "code",
      "metadata": {
        "id": "Qo16Ko0Gchxk",
        "colab_type": "code",
        "colab": {}
      },
      "source": [
        "class LstmTagger(Model):\n",
        "  def __init__(self,\n",
        "               word_embeddings: TextFieldEmbedder,\n",
        "               encoder: Seq2SeqEncoder,\n",
        "               vocab: Vocabulary) -> None:\n",
        "    super().__init__(vocab)\n",
        "    self.word_embeddings = word_embeddings\n",
        "    self.encoder = encoder\n",
        "    self.hidden2tag = torch.nn.Linear(in_features=encoder.get_output_dim(),\n",
        "                                      out_features=vocab.get_vocab_size('labels'))\n",
        "    self.accuracy = CategoricalAccuracy()\n",
        "\n",
        "  def forward(self,\n",
        "              tokens: Dict[str, torch.Tensor],\n",
        "              metadata,\n",
        "              tags: torch.Tensor = None) -> Dict[str, torch.Tensor]:\n",
        "    mask = get_text_field_mask(tokens)\n",
        "    embeddings = self.word_embeddings(tokens)\n",
        "    encoder_out = self.encoder(embeddings, mask)\n",
        "    tag_logits = self.hidden2tag(encoder_out)\n",
        "    output = {\"tag_logits\": tag_logits}\n",
        "    if tags is not None:\n",
        "      self.accuracy(tag_logits, tags, mask)\n",
        "      output[\"loss\"] = sequence_cross_entropy_with_logits(tag_logits, tags, mask)\n",
        "\n",
        "    return output\n",
        "\n",
        "  def get_metrics(self, reset: bool = False) -> Dict[str, float]:\n",
        "    return {\"accuracy\": self.accuracy.get_metric(reset)}"
      ],
      "execution_count": 0,
      "outputs": []
    },
    {
      "cell_type": "markdown",
      "metadata": {
        "id": "mVdKvPftVVLt",
        "colab_type": "text"
      },
      "source": [
        "## Import Data"
      ]
    },
    {
      "cell_type": "code",
      "metadata": {
        "id": "5sOVVZslKm3N",
        "colab_type": "code",
        "outputId": "ec768edd-0000-4d71-94df-af3b98bf5507",
        "colab": {
          "base_uri": "https://localhost:8080/",
          "height": 102
        }
      },
      "source": [
        "reader = conll2003.Conll2003DatasetReader()\n",
        "train_dataset = reader.read(cached_path('http://www.ccs.neu.edu/home/dasmith/onto.train.ner.sample'))\n",
        "validation_dataset = reader.read(cached_path('http://www.ccs.neu.edu/home/dasmith/onto.development.ner.sample'))\n",
        "\n",
        "vocab = Vocabulary.from_instances(train_dataset + validation_dataset)"
      ],
      "execution_count": 0,
      "outputs": [
        {
          "output_type": "stream",
          "text": [
            "159377B [00:00, 2518823.43B/s]\n",
            "562it [00:00, 4742.04it/s]\n",
            "8366B [00:00, 7638125.22B/s]\n",
            "23it [00:00, 5124.51it/s]\n",
            "100%|██████████| 585/585 [00:00<00:00, 61961.31it/s]\n"
          ],
          "name": "stderr"
        }
      ]
    },
    {
      "cell_type": "markdown",
      "metadata": {
        "id": "wpg2Udr-Vnwm",
        "colab_type": "text"
      },
      "source": [
        "## Define and Train Model"
      ]
    },
    {
      "cell_type": "code",
      "metadata": {
        "id": "8kDQQBMywdKx",
        "colab_type": "code",
        "outputId": "feb818c2-ad7e-4054-bf01-3b807533816a",
        "colab": {
          "base_uri": "https://localhost:8080/",
          "height": 1000
        }
      },
      "source": [
        "EMBEDDING_DIM = 6\n",
        "HIDDEN_DIM = 6\n",
        "token_embedding = Embedding(num_embeddings=vocab.get_vocab_size('tokens'),\n",
        "                            embedding_dim=EMBEDDING_DIM)\n",
        "word_embeddings = BasicTextFieldEmbedder({\"tokens\": token_embedding})\n",
        "lstm = PytorchSeq2SeqWrapper(torch.nn.LSTM(EMBEDDING_DIM, HIDDEN_DIM, bidirectional=False, batch_first=True))\n",
        "model = LstmTagger(word_embeddings, lstm, vocab)\n",
        "if torch.cuda.is_available():\n",
        "    cuda_device = 0\n",
        "    model = model.cuda(cuda_device)\n",
        "else:\n",
        "    cuda_device = -1\n",
        "# optimizer = optim.AdamW(model.parameters(), lr=1e-4, eps=1e-8)\n",
        "optimizer = optim.SGD(model.parameters(), lr=0.1)\n",
        "iterator = BucketIterator(batch_size=2, sorting_keys=[(\"tokens\", \"num_tokens\")])\n",
        "iterator.index_with(vocab)\n",
        "trainer = Trainer(model=model,\n",
        "                  optimizer=optimizer,\n",
        "                  iterator=iterator,\n",
        "                  train_dataset=train_dataset,\n",
        "                  validation_dataset=validation_dataset,\n",
        "                  patience=10,\n",
        "                  num_epochs=100,\n",
        "                  cuda_device=cuda_device)\n",
        "trainer.train()"
      ],
      "execution_count": 0,
      "outputs": [
        {
          "output_type": "stream",
          "text": [
            "accuracy: 0.8442, loss: 0.9032 ||: 100%|██████████| 281/281 [00:01<00:00, 177.60it/s]\n",
            "accuracy: 0.7878, loss: 1.1820 ||: 100%|██████████| 12/12 [00:00<00:00, 445.38it/s]\n",
            "accuracy: 0.8442, loss: 0.7304 ||: 100%|██████████| 281/281 [00:01<00:00, 248.16it/s]\n",
            "accuracy: 0.7878, loss: 1.1768 ||: 100%|██████████| 12/12 [00:00<00:00, 462.55it/s]\n",
            "accuracy: 0.8442, loss: 0.7167 ||: 100%|██████████| 281/281 [00:01<00:00, 253.97it/s]\n",
            "accuracy: 0.7878, loss: 1.1778 ||: 100%|██████████| 12/12 [00:00<00:00, 389.01it/s]\n",
            "accuracy: 0.8442, loss: 0.7068 ||: 100%|██████████| 281/281 [00:01<00:00, 253.82it/s]\n",
            "accuracy: 0.7878, loss: 1.1786 ||: 100%|██████████| 12/12 [00:00<00:00, 458.96it/s]\n",
            "accuracy: 0.8442, loss: 0.6976 ||: 100%|██████████| 281/281 [00:01<00:00, 253.20it/s]\n",
            "accuracy: 0.7878, loss: 1.1514 ||: 100%|██████████| 12/12 [00:00<00:00, 461.05it/s]\n",
            "accuracy: 0.8442, loss: 0.6904 ||: 100%|██████████| 281/281 [00:01<00:00, 256.68it/s]\n",
            "accuracy: 0.7878, loss: 1.1439 ||: 100%|██████████| 12/12 [00:00<00:00, 486.18it/s]\n",
            "accuracy: 0.8442, loss: 0.6803 ||: 100%|██████████| 281/281 [00:01<00:00, 256.54it/s]\n",
            "accuracy: 0.7878, loss: 1.1242 ||: 100%|██████████| 12/12 [00:00<00:00, 441.67it/s]\n",
            "accuracy: 0.8442, loss: 0.6680 ||: 100%|██████████| 281/281 [00:01<00:00, 254.58it/s]\n",
            "accuracy: 0.7878, loss: 1.1438 ||: 100%|██████████| 12/12 [00:00<00:00, 459.73it/s]\n",
            "accuracy: 0.8442, loss: 0.6544 ||: 100%|██████████| 281/281 [00:01<00:00, 250.49it/s]\n",
            "accuracy: 0.7878, loss: 1.1000 ||: 100%|██████████| 12/12 [00:00<00:00, 472.06it/s]\n",
            "accuracy: 0.8442, loss: 0.6370 ||: 100%|██████████| 281/281 [00:01<00:00, 257.78it/s]\n",
            "accuracy: 0.7878, loss: 1.0752 ||: 100%|██████████| 12/12 [00:00<00:00, 483.66it/s]\n",
            "accuracy: 0.8442, loss: 0.6120 ||: 100%|██████████| 281/281 [00:01<00:00, 250.42it/s]\n",
            "accuracy: 0.7878, loss: 1.0386 ||: 100%|██████████| 12/12 [00:00<00:00, 457.27it/s]\n",
            "accuracy: 0.8442, loss: 0.5773 ||: 100%|██████████| 281/281 [00:01<00:00, 248.01it/s]\n",
            "accuracy: 0.7878, loss: 0.9663 ||: 100%|██████████| 12/12 [00:00<00:00, 435.08it/s]\n",
            "accuracy: 0.8464, loss: 0.5368 ||: 100%|██████████| 281/281 [00:01<00:00, 253.33it/s]\n",
            "accuracy: 0.7878, loss: 0.9297 ||: 100%|██████████| 12/12 [00:00<00:00, 440.25it/s]\n",
            "accuracy: 0.8566, loss: 0.5018 ||: 100%|██████████| 281/281 [00:01<00:00, 249.00it/s]\n",
            "accuracy: 0.7878, loss: 0.8692 ||: 100%|██████████| 12/12 [00:00<00:00, 428.89it/s]\n",
            "accuracy: 0.8594, loss: 0.4705 ||: 100%|██████████| 281/281 [00:01<00:00, 250.04it/s]\n",
            "accuracy: 0.7878, loss: 0.8327 ||: 100%|██████████| 12/12 [00:00<00:00, 449.75it/s]\n",
            "accuracy: 0.8600, loss: 0.4479 ||: 100%|██████████| 281/281 [00:01<00:00, 259.81it/s]\n",
            "accuracy: 0.7939, loss: 0.7983 ||: 100%|██████████| 12/12 [00:00<00:00, 381.73it/s]\n",
            "accuracy: 0.8612, loss: 0.4302 ||: 100%|██████████| 281/281 [00:01<00:00, 258.29it/s]\n",
            "accuracy: 0.7939, loss: 0.7718 ||: 100%|██████████| 12/12 [00:00<00:00, 471.66it/s]\n",
            "accuracy: 0.8620, loss: 0.4162 ||: 100%|██████████| 281/281 [00:01<00:00, 252.54it/s]\n",
            "accuracy: 0.7939, loss: 0.7795 ||: 100%|██████████| 12/12 [00:00<00:00, 467.92it/s]\n",
            "accuracy: 0.8625, loss: 0.4077 ||: 100%|██████████| 281/281 [00:01<00:00, 247.10it/s]\n",
            "accuracy: 0.7939, loss: 0.7629 ||: 100%|██████████| 12/12 [00:00<00:00, 483.53it/s]\n",
            "accuracy: 0.8628, loss: 0.3990 ||: 100%|██████████| 281/281 [00:01<00:00, 245.82it/s]\n",
            "accuracy: 0.7939, loss: 0.7363 ||: 100%|██████████| 12/12 [00:00<00:00, 452.48it/s]\n",
            "accuracy: 0.8634, loss: 0.3913 ||: 100%|██████████| 281/281 [00:01<00:00, 253.49it/s]\n",
            "accuracy: 0.7939, loss: 0.7278 ||: 100%|██████████| 12/12 [00:00<00:00, 390.90it/s]\n",
            "accuracy: 0.8640, loss: 0.3868 ||: 100%|██████████| 281/281 [00:01<00:00, 250.09it/s]\n",
            "accuracy: 0.7939, loss: 0.7299 ||: 100%|██████████| 12/12 [00:00<00:00, 428.91it/s]\n",
            "accuracy: 0.8651, loss: 0.3816 ||: 100%|██████████| 281/281 [00:01<00:00, 256.23it/s]\n",
            "accuracy: 0.7939, loss: 0.7259 ||: 100%|██████████| 12/12 [00:00<00:00, 455.73it/s]\n",
            "accuracy: 0.8641, loss: 0.3783 ||: 100%|██████████| 281/281 [00:01<00:00, 258.85it/s]\n",
            "accuracy: 0.7939, loss: 0.7064 ||: 100%|██████████| 12/12 [00:00<00:00, 468.37it/s]\n",
            "accuracy: 0.8656, loss: 0.3734 ||: 100%|██████████| 281/281 [00:01<00:00, 251.73it/s]\n",
            "accuracy: 0.7939, loss: 0.7237 ||: 100%|██████████| 12/12 [00:00<00:00, 471.46it/s]\n",
            "accuracy: 0.8655, loss: 0.3674 ||: 100%|██████████| 281/281 [00:01<00:00, 257.23it/s]\n",
            "accuracy: 0.7939, loss: 0.7038 ||: 100%|██████████| 12/12 [00:00<00:00, 470.97it/s]\n",
            "accuracy: 0.8664, loss: 0.3656 ||: 100%|██████████| 281/281 [00:01<00:00, 260.51it/s]\n",
            "accuracy: 0.7939, loss: 0.6909 ||: 100%|██████████| 12/12 [00:00<00:00, 467.99it/s]\n",
            "accuracy: 0.8673, loss: 0.3614 ||: 100%|██████████| 281/281 [00:01<00:00, 249.78it/s]\n",
            "accuracy: 0.7939, loss: 0.7018 ||: 100%|██████████| 12/12 [00:00<00:00, 449.92it/s]\n",
            "accuracy: 0.8696, loss: 0.3580 ||: 100%|██████████| 281/281 [00:01<00:00, 252.56it/s]\n",
            "accuracy: 0.8020, loss: 0.7164 ||: 100%|██████████| 12/12 [00:00<00:00, 371.84it/s]\n",
            "accuracy: 0.8723, loss: 0.3530 ||: 100%|██████████| 281/281 [00:01<00:00, 253.87it/s]\n",
            "accuracy: 0.8061, loss: 0.6721 ||: 100%|██████████| 12/12 [00:00<00:00, 456.15it/s]\n",
            "accuracy: 0.8724, loss: 0.3514 ||: 100%|██████████| 281/281 [00:01<00:00, 251.32it/s]\n",
            "accuracy: 0.8102, loss: 0.6720 ||: 100%|██████████| 12/12 [00:00<00:00, 461.76it/s]\n",
            "accuracy: 0.8744, loss: 0.3486 ||: 100%|██████████| 281/281 [00:01<00:00, 256.35it/s]\n",
            "accuracy: 0.8082, loss: 0.6748 ||: 100%|██████████| 12/12 [00:00<00:00, 463.26it/s]\n",
            "accuracy: 0.8751, loss: 0.3444 ||: 100%|██████████| 281/281 [00:01<00:00, 257.99it/s]\n",
            "accuracy: 0.8143, loss: 0.6904 ||: 100%|██████████| 12/12 [00:00<00:00, 456.63it/s]\n",
            "accuracy: 0.8756, loss: 0.3405 ||: 100%|██████████| 281/281 [00:01<00:00, 249.49it/s]\n",
            "accuracy: 0.8102, loss: 0.6729 ||: 100%|██████████| 12/12 [00:00<00:00, 445.83it/s]\n",
            "accuracy: 0.8767, loss: 0.3378 ||: 100%|██████████| 281/281 [00:01<00:00, 250.99it/s]\n",
            "accuracy: 0.8204, loss: 0.6509 ||: 100%|██████████| 12/12 [00:00<00:00, 474.15it/s]\n",
            "accuracy: 0.8770, loss: 0.3356 ||: 100%|██████████| 281/281 [00:01<00:00, 256.64it/s]\n",
            "accuracy: 0.8163, loss: 0.6475 ||: 100%|██████████| 12/12 [00:00<00:00, 457.56it/s]\n",
            "accuracy: 0.8780, loss: 0.3334 ||: 100%|██████████| 281/281 [00:01<00:00, 247.42it/s]\n",
            "accuracy: 0.8224, loss: 0.6266 ||: 100%|██████████| 12/12 [00:00<00:00, 468.19it/s]\n",
            "accuracy: 0.8778, loss: 0.3293 ||: 100%|██████████| 281/281 [00:01<00:00, 258.15it/s]\n",
            "accuracy: 0.8224, loss: 0.6481 ||: 100%|██████████| 12/12 [00:00<00:00, 469.29it/s]\n",
            "accuracy: 0.8795, loss: 0.3290 ||: 100%|██████████| 281/281 [00:01<00:00, 255.11it/s]\n",
            "accuracy: 0.8204, loss: 0.6438 ||: 100%|██████████| 12/12 [00:00<00:00, 457.51it/s]\n",
            "accuracy: 0.8795, loss: 0.3245 ||: 100%|██████████| 281/281 [00:01<00:00, 252.65it/s]\n",
            "accuracy: 0.8245, loss: 0.6209 ||: 100%|██████████| 12/12 [00:00<00:00, 427.74it/s]\n",
            "accuracy: 0.8811, loss: 0.3210 ||: 100%|██████████| 281/281 [00:01<00:00, 258.11it/s]\n",
            "accuracy: 0.8245, loss: 0.6256 ||: 100%|██████████| 12/12 [00:00<00:00, 408.18it/s]\n",
            "accuracy: 0.8829, loss: 0.3178 ||: 100%|██████████| 281/281 [00:01<00:00, 244.53it/s]\n",
            "accuracy: 0.8204, loss: 0.6510 ||: 100%|██████████| 12/12 [00:00<00:00, 395.59it/s]\n",
            "accuracy: 0.8840, loss: 0.3150 ||: 100%|██████████| 281/281 [00:01<00:00, 258.55it/s]\n",
            "accuracy: 0.8204, loss: 0.6169 ||: 100%|██████████| 12/12 [00:00<00:00, 469.40it/s]\n",
            "accuracy: 0.8835, loss: 0.3111 ||: 100%|██████████| 281/281 [00:01<00:00, 246.03it/s]\n",
            "accuracy: 0.8204, loss: 0.6217 ||: 100%|██████████| 12/12 [00:00<00:00, 482.55it/s]\n",
            "accuracy: 0.8849, loss: 0.3084 ||: 100%|██████████| 281/281 [00:01<00:00, 253.83it/s]\n",
            "accuracy: 0.8245, loss: 0.6027 ||: 100%|██████████| 12/12 [00:00<00:00, 481.55it/s]\n",
            "accuracy: 0.8853, loss: 0.3053 ||: 100%|██████████| 281/281 [00:01<00:00, 256.98it/s]\n",
            "accuracy: 0.8265, loss: 0.5941 ||: 100%|██████████| 12/12 [00:00<00:00, 463.08it/s]\n",
            "accuracy: 0.8853, loss: 0.3048 ||: 100%|██████████| 281/281 [00:01<00:00, 252.79it/s]\n",
            "accuracy: 0.8265, loss: 0.5835 ||: 100%|██████████| 12/12 [00:00<00:00, 472.68it/s]\n",
            "accuracy: 0.8879, loss: 0.2995 ||: 100%|██████████| 281/281 [00:01<00:00, 255.42it/s]\n",
            "accuracy: 0.8327, loss: 0.5885 ||: 100%|██████████| 12/12 [00:00<00:00, 464.07it/s]\n",
            "accuracy: 0.8891, loss: 0.2968 ||: 100%|██████████| 281/281 [00:01<00:00, 256.18it/s]\n",
            "accuracy: 0.8388, loss: 0.5770 ||: 100%|██████████| 12/12 [00:00<00:00, 468.63it/s]\n",
            "accuracy: 0.8906, loss: 0.2949 ||: 100%|██████████| 281/281 [00:01<00:00, 258.03it/s]\n",
            "accuracy: 0.8327, loss: 0.5644 ||: 100%|██████████| 12/12 [00:00<00:00, 470.67it/s]\n",
            "accuracy: 0.8922, loss: 0.2914 ||: 100%|██████████| 281/281 [00:01<00:00, 257.24it/s]\n",
            "accuracy: 0.8367, loss: 0.5717 ||: 100%|██████████| 12/12 [00:00<00:00, 452.66it/s]\n",
            "accuracy: 0.8916, loss: 0.2891 ||: 100%|██████████| 281/281 [00:01<00:00, 256.56it/s]\n",
            "accuracy: 0.8306, loss: 0.5805 ||: 100%|██████████| 12/12 [00:00<00:00, 471.94it/s]\n",
            "accuracy: 0.8925, loss: 0.2870 ||: 100%|██████████| 281/281 [00:01<00:00, 256.52it/s]\n",
            "accuracy: 0.8347, loss: 0.5610 ||: 100%|██████████| 12/12 [00:00<00:00, 398.77it/s]\n",
            "accuracy: 0.8962, loss: 0.2835 ||: 100%|██████████| 281/281 [00:01<00:00, 253.53it/s]\n",
            "accuracy: 0.8408, loss: 0.5532 ||: 100%|██████████| 12/12 [00:00<00:00, 473.17it/s]\n",
            "accuracy: 0.8941, loss: 0.2815 ||: 100%|██████████| 281/281 [00:01<00:00, 255.19it/s]\n",
            "accuracy: 0.8408, loss: 0.5376 ||: 100%|██████████| 12/12 [00:00<00:00, 451.18it/s]\n",
            "accuracy: 0.8978, loss: 0.2771 ||: 100%|██████████| 281/281 [00:01<00:00, 259.91it/s]\n",
            "accuracy: 0.8469, loss: 0.5453 ||: 100%|██████████| 12/12 [00:00<00:00, 480.17it/s]\n",
            "accuracy: 0.8981, loss: 0.2765 ||: 100%|██████████| 281/281 [00:01<00:00, 256.51it/s]\n",
            "accuracy: 0.8429, loss: 0.5245 ||: 100%|██████████| 12/12 [00:00<00:00, 475.97it/s]\n",
            "accuracy: 0.8982, loss: 0.2725 ||: 100%|██████████| 281/281 [00:01<00:00, 255.41it/s]\n",
            "accuracy: 0.8367, loss: 0.5218 ||: 100%|██████████| 12/12 [00:00<00:00, 462.65it/s]\n",
            "accuracy: 0.9005, loss: 0.2701 ||: 100%|██████████| 281/281 [00:01<00:00, 252.09it/s]\n",
            "accuracy: 0.8408, loss: 0.5256 ||: 100%|██████████| 12/12 [00:00<00:00, 469.66it/s]\n",
            "accuracy: 0.8988, loss: 0.2687 ||: 100%|██████████| 281/281 [00:01<00:00, 254.68it/s]\n",
            "accuracy: 0.8469, loss: 0.5221 ||: 100%|██████████| 12/12 [00:00<00:00, 445.67it/s]\n",
            "accuracy: 0.9013, loss: 0.2638 ||: 100%|██████████| 281/281 [00:01<00:00, 254.00it/s]\n",
            "accuracy: 0.8449, loss: 0.5178 ||: 100%|██████████| 12/12 [00:00<00:00, 439.72it/s]\n",
            "accuracy: 0.9016, loss: 0.2634 ||: 100%|██████████| 281/281 [00:01<00:00, 250.21it/s]\n",
            "accuracy: 0.8469, loss: 0.5091 ||: 100%|██████████| 12/12 [00:00<00:00, 408.63it/s]\n",
            "accuracy: 0.9042, loss: 0.2598 ||: 100%|██████████| 281/281 [00:01<00:00, 254.87it/s]\n",
            "accuracy: 0.8571, loss: 0.5142 ||: 100%|██████████| 12/12 [00:00<00:00, 445.89it/s]\n",
            "accuracy: 0.9057, loss: 0.2576 ||: 100%|██████████| 281/281 [00:01<00:00, 253.82it/s]\n",
            "accuracy: 0.8551, loss: 0.5177 ||: 100%|██████████| 12/12 [00:00<00:00, 466.02it/s]\n",
            "accuracy: 0.9069, loss: 0.2546 ||: 100%|██████████| 281/281 [00:01<00:00, 244.88it/s]\n",
            "accuracy: 0.8592, loss: 0.5047 ||: 100%|██████████| 12/12 [00:00<00:00, 406.66it/s]\n",
            "accuracy: 0.9090, loss: 0.2502 ||: 100%|██████████| 281/281 [00:01<00:00, 257.48it/s]\n",
            "accuracy: 0.8612, loss: 0.5096 ||: 100%|██████████| 12/12 [00:00<00:00, 466.40it/s]\n",
            "accuracy: 0.9072, loss: 0.2514 ||: 100%|██████████| 281/281 [00:01<00:00, 259.98it/s]\n",
            "accuracy: 0.8592, loss: 0.4886 ||: 100%|██████████| 12/12 [00:00<00:00, 468.08it/s]\n",
            "accuracy: 0.9106, loss: 0.2454 ||: 100%|██████████| 281/281 [00:01<00:00, 255.16it/s]\n",
            "accuracy: 0.8653, loss: 0.4791 ||: 100%|██████████| 12/12 [00:00<00:00, 478.78it/s]\n",
            "accuracy: 0.9113, loss: 0.2427 ||: 100%|██████████| 281/281 [00:01<00:00, 251.40it/s]\n",
            "accuracy: 0.8612, loss: 0.4984 ||: 100%|██████████| 12/12 [00:00<00:00, 467.87it/s]\n",
            "accuracy: 0.9119, loss: 0.2419 ||: 100%|██████████| 281/281 [00:01<00:00, 260.07it/s]\n",
            "accuracy: 0.8612, loss: 0.4829 ||: 100%|██████████| 12/12 [00:00<00:00, 459.16it/s]\n",
            "accuracy: 0.9143, loss: 0.2398 ||: 100%|██████████| 281/281 [00:01<00:00, 252.23it/s]\n",
            "accuracy: 0.8612, loss: 0.4663 ||: 100%|██████████| 12/12 [00:00<00:00, 448.39it/s]\n",
            "accuracy: 0.9144, loss: 0.2383 ||: 100%|██████████| 281/281 [00:01<00:00, 250.42it/s]\n",
            "accuracy: 0.8653, loss: 0.4617 ||: 100%|██████████| 12/12 [00:00<00:00, 482.39it/s]\n",
            "accuracy: 0.9144, loss: 0.2366 ||: 100%|██████████| 281/281 [00:01<00:00, 233.34it/s]\n",
            "accuracy: 0.8633, loss: 0.4571 ||: 100%|██████████| 12/12 [00:00<00:00, 453.66it/s]\n",
            "accuracy: 0.9146, loss: 0.2340 ||: 100%|██████████| 281/281 [00:01<00:00, 256.99it/s]\n",
            "accuracy: 0.8571, loss: 0.4740 ||: 100%|██████████| 12/12 [00:00<00:00, 409.01it/s]\n",
            "accuracy: 0.9174, loss: 0.2296 ||: 100%|██████████| 281/281 [00:01<00:00, 252.45it/s]\n",
            "accuracy: 0.8612, loss: 0.4594 ||: 100%|██████████| 12/12 [00:00<00:00, 458.30it/s]\n",
            "accuracy: 0.9171, loss: 0.2287 ||: 100%|██████████| 281/281 [00:01<00:00, 252.73it/s]\n",
            "accuracy: 0.8673, loss: 0.4413 ||: 100%|██████████| 12/12 [00:00<00:00, 428.37it/s]\n",
            "accuracy: 0.9179, loss: 0.2250 ||: 100%|██████████| 281/281 [00:01<00:00, 251.55it/s]\n",
            "accuracy: 0.8673, loss: 0.4517 ||: 100%|██████████| 12/12 [00:00<00:00, 455.57it/s]\n",
            "accuracy: 0.9197, loss: 0.2266 ||: 100%|██████████| 281/281 [00:01<00:00, 255.43it/s]\n",
            "accuracy: 0.8653, loss: 0.4415 ||: 100%|██████████| 12/12 [00:00<00:00, 482.49it/s]\n",
            "accuracy: 0.9203, loss: 0.2210 ||: 100%|██████████| 281/281 [00:01<00:00, 262.82it/s]\n",
            "accuracy: 0.8694, loss: 0.4386 ||: 100%|██████████| 12/12 [00:00<00:00, 430.09it/s]\n",
            "accuracy: 0.9195, loss: 0.2214 ||: 100%|██████████| 281/281 [00:01<00:00, 254.24it/s]\n",
            "accuracy: 0.8735, loss: 0.4378 ||: 100%|██████████| 12/12 [00:00<00:00, 466.45it/s]\n",
            "accuracy: 0.9202, loss: 0.2177 ||: 100%|██████████| 281/281 [00:01<00:00, 257.44it/s]\n",
            "accuracy: 0.8694, loss: 0.4306 ||: 100%|██████████| 12/12 [00:00<00:00, 442.74it/s]\n",
            "accuracy: 0.9173, loss: 0.2210 ||: 100%|██████████| 281/281 [00:01<00:00, 244.09it/s]\n",
            "accuracy: 0.8653, loss: 0.4471 ||: 100%|██████████| 12/12 [00:00<00:00, 411.20it/s]\n",
            "accuracy: 0.9212, loss: 0.2134 ||: 100%|██████████| 281/281 [00:01<00:00, 250.22it/s]\n",
            "accuracy: 0.8653, loss: 0.4322 ||: 100%|██████████| 12/12 [00:00<00:00, 470.00it/s]\n",
            "accuracy: 0.9229, loss: 0.2121 ||: 100%|██████████| 281/281 [00:01<00:00, 251.80it/s]\n",
            "accuracy: 0.8694, loss: 0.4258 ||: 100%|██████████| 12/12 [00:00<00:00, 411.34it/s]\n",
            "accuracy: 0.9228, loss: 0.2084 ||: 100%|██████████| 281/281 [00:01<00:00, 261.08it/s]\n",
            "accuracy: 0.8694, loss: 0.4259 ||: 100%|██████████| 12/12 [00:00<00:00, 444.52it/s]\n",
            "accuracy: 0.9223, loss: 0.2106 ||: 100%|██████████| 281/281 [00:01<00:00, 252.06it/s]\n",
            "accuracy: 0.8694, loss: 0.4162 ||: 100%|██████████| 12/12 [00:00<00:00, 462.46it/s]\n",
            "accuracy: 0.9234, loss: 0.2050 ||: 100%|██████████| 281/281 [00:01<00:00, 250.65it/s]\n",
            "accuracy: 0.8735, loss: 0.4253 ||: 100%|██████████| 12/12 [00:00<00:00, 413.23it/s]\n",
            "accuracy: 0.9196, loss: 0.2213 ||: 100%|██████████| 281/281 [00:01<00:00, 252.20it/s]\n",
            "accuracy: 0.8714, loss: 0.4207 ||: 100%|██████████| 12/12 [00:00<00:00, 436.19it/s]\n",
            "accuracy: 0.9219, loss: 0.2087 ||: 100%|██████████| 281/281 [00:01<00:00, 253.69it/s]\n",
            "accuracy: 0.8735, loss: 0.4030 ||: 100%|██████████| 12/12 [00:00<00:00, 465.70it/s]\n",
            "accuracy: 0.9242, loss: 0.2018 ||: 100%|██████████| 281/281 [00:01<00:00, 249.37it/s]\n",
            "accuracy: 0.8755, loss: 0.4077 ||: 100%|██████████| 12/12 [00:00<00:00, 458.63it/s]\n",
            "accuracy: 0.9236, loss: 0.1996 ||: 100%|██████████| 281/281 [00:01<00:00, 259.38it/s]\n",
            "accuracy: 0.8714, loss: 0.3979 ||: 100%|██████████| 12/12 [00:00<00:00, 463.35it/s]\n",
            "accuracy: 0.9242, loss: 0.1982 ||: 100%|██████████| 281/281 [00:01<00:00, 245.03it/s]\n",
            "accuracy: 0.8694, loss: 0.4010 ||: 100%|██████████| 12/12 [00:00<00:00, 432.47it/s]\n",
            "accuracy: 0.9254, loss: 0.1956 ||: 100%|██████████| 281/281 [00:01<00:00, 245.54it/s]\n",
            "accuracy: 0.8673, loss: 0.4029 ||: 100%|██████████| 12/12 [00:00<00:00, 425.76it/s]\n",
            "accuracy: 0.9253, loss: 0.1948 ||: 100%|██████████| 281/281 [00:01<00:00, 247.19it/s]\n",
            "accuracy: 0.8714, loss: 0.3977 ||: 100%|██████████| 12/12 [00:00<00:00, 355.38it/s]\n",
            "accuracy: 0.9247, loss: 0.1925 ||: 100%|██████████| 281/281 [00:01<00:00, 244.44it/s]\n",
            "accuracy: 0.8714, loss: 0.3894 ||: 100%|██████████| 12/12 [00:00<00:00, 467.23it/s]\n",
            "accuracy: 0.9259, loss: 0.1918 ||: 100%|██████████| 281/281 [00:01<00:00, 249.67it/s]\n",
            "accuracy: 0.8735, loss: 0.3937 ||: 100%|██████████| 12/12 [00:00<00:00, 424.97it/s]\n",
            "accuracy: 0.9261, loss: 0.1907 ||: 100%|██████████| 281/281 [00:01<00:00, 246.13it/s]\n",
            "accuracy: 0.8776, loss: 0.3789 ||: 100%|██████████| 12/12 [00:00<00:00, 416.47it/s]\n",
            "accuracy: 0.9256, loss: 0.1899 ||: 100%|██████████| 281/281 [00:01<00:00, 252.04it/s]\n",
            "accuracy: 0.8776, loss: 0.3832 ||: 100%|██████████| 12/12 [00:00<00:00, 479.74it/s]\n",
            "accuracy: 0.9269, loss: 0.1874 ||: 100%|██████████| 281/281 [00:01<00:00, 246.23it/s]\n",
            "accuracy: 0.8857, loss: 0.3789 ||: 100%|██████████| 12/12 [00:00<00:00, 397.66it/s]\n",
            "accuracy: 0.9270, loss: 0.1865 ||: 100%|██████████| 281/281 [00:01<00:00, 250.04it/s]\n",
            "accuracy: 0.8776, loss: 0.3745 ||: 100%|██████████| 12/12 [00:00<00:00, 447.30it/s]\n"
          ],
          "name": "stderr"
        },
        {
          "output_type": "execute_result",
          "data": {
            "text/plain": [
              "{'best_epoch': 99,\n",
              " 'best_validation_accuracy': 0.8775510204081632,\n",
              " 'best_validation_loss': 0.37447693160599255,\n",
              " 'epoch': 99,\n",
              " 'peak_cpu_memory_MB': 2564.34,\n",
              " 'peak_gpu_0_memory_MB': 723,\n",
              " 'training_accuracy': 0.9270204427497087,\n",
              " 'training_cpu_memory_MB': 2564.34,\n",
              " 'training_duration': '0:01:59.965550',\n",
              " 'training_epochs': 99,\n",
              " 'training_gpu_0_memory_MB': 723,\n",
              " 'training_loss': 0.18652244034290374,\n",
              " 'training_start_epoch': 0,\n",
              " 'validation_accuracy': 0.8775510204081632,\n",
              " 'validation_loss': 0.37447693160599255}"
            ]
          },
          "metadata": {
            "tags": []
          },
          "execution_count": 6
        }
      ]
    },
    {
      "cell_type": "markdown",
      "metadata": {
        "id": "mwN6ctqVV0tf",
        "colab_type": "text"
      },
      "source": [
        "## Evaluation"
      ]
    },
    {
      "cell_type": "markdown",
      "metadata": {
        "id": "qkDs_UdIeuFz",
        "colab_type": "text"
      },
      "source": [
        "The code below creators a `predictor` object that applies the model to an input example and then loops over the examples in the validation set, printing out the input token, gold-standard output, and model output. You can see from these methods how to access data and model outputs for evaluation."
      ]
    },
    {
      "cell_type": "code",
      "metadata": {
        "id": "S0bE4fmLik08",
        "colab_type": "code",
        "colab": {}
      },
      "source": [
        "predictor = SentenceTaggerPredictor(model, dataset_reader=reader)\n",
        "\n",
        "def tag_sentence(s):\n",
        "  tag_ids = np.argmax(predictor.predict_instance(s)['tag_logits'], axis=-1)\n",
        "  fields = zip(s['tokens'], s['tags'], [model.vocab.get_token_from_index(i, 'labels') for i in tag_ids])\n",
        "  return list(fields)\n",
        "\n",
        "baseline_output = [tag_sentence(i) for i in validation_dataset]"
      ],
      "execution_count": 0,
      "outputs": []
    },
    {
      "cell_type": "markdown",
      "metadata": {
        "id": "BpYMx7RVfCyT",
        "colab_type": "text"
      },
      "source": [
        "Now, implement two evaluation functions: `violations` and `span_stats`."
      ]
    },
    {
      "cell_type": "code",
      "metadata": {
        "id": "SiEXAfQ0YrCZ",
        "colab_type": "code",
        "colab": {}
      },
      "source": [
        "from __future__ import absolute_import\n",
        "from __future__ import division\n",
        "from __future__ import print_function\n",
        "from collections import defaultdict\n",
        "import numpy as np\n",
        "\n",
        "def get_entities(seq, suffix=False):\n",
        "\n",
        "    # for nested list\n",
        "    if any(isinstance(s, list) for s in seq):\n",
        "        seq = [item for sublist in seq for item in sublist + ['O']]\n",
        "\n",
        "    prev_tag = 'O'\n",
        "    prev_type = ''\n",
        "    begin_offset = 0\n",
        "    chunks = []\n",
        "    Q=0\n",
        "    for i, chunk in enumerate(seq + ['O']):\n",
        "        if suffix:\n",
        "            tag = chunk[-1]\n",
        "            type_ = chunk.split('-')[0]\n",
        "        else:\n",
        "            tag = chunk[0]\n",
        "            type_ = chunk.split('-')[-1]\n",
        "        if end_of_chunk(prev_tag, tag, prev_type, type_,Q):\n",
        "            chunks.append((prev_type, begin_offset, i-1))\n",
        "        if start_of_chunk(prev_tag, tag, prev_type, type_,Q)[0]:      \n",
        "            begin_offset = i\n",
        "            Q=start_of_chunk(prev_tag, tag, prev_type, type_,Q)[1]\n",
        "        prev_tag = tag\n",
        "        prev_type = type_\n",
        "    return chunks\n",
        "\n",
        "def end_of_chunk(prev_tag, tag, prev_type, type_,Q):\n",
        "\n",
        "    chunk_end = False\n",
        "    if prev_tag == 'B' and tag == 'B': chunk_end = True\n",
        "    if prev_tag == 'B' and tag == 'O': chunk_end = True\n",
        "    if prev_tag == 'I' and tag == 'B': chunk_end = True\n",
        "    if prev_tag != 'O' and prev_tag != '.' and prev_type != type_:\n",
        "        chunk_end = True\n",
        "\n",
        "    if prev_tag == 'I' and tag == 'I'and Q==1: chunk_end = False\n",
        "    if prev_tag == 'I' and tag == 'O' and Q==1: chunk_end = False\n",
        "\n",
        "    return chunk_end\n",
        "\n",
        "def start_of_chunk(prev_tag, tag, prev_type, type_,Q):\n",
        "\n",
        "    chunk_start = False\n",
        "    if tag == 'B': \n",
        "      chunk_start = True\n",
        "      Q=0\n",
        "    if prev_tag == 'B' and tag == 'I' and prev_type!=type_: \n",
        "      chunk_start = True\n",
        "      Q=1\n",
        "    if prev_tag == 'I' and tag == 'I' and prev_type!=type_: \n",
        "      chunk_start = True\n",
        "      Q=1\n",
        "    if prev_tag == 'O' and tag == 'I' and prev_type!=type_: \n",
        "      chunk_start = True\n",
        "      Q=1\n",
        "\n",
        "    # print(Q)\n",
        "    # if tag != 'O' and tag != '.' and prev_type != type_:\n",
        "    #     chunk_start = True\n",
        "\n",
        "    return chunk_start,Q\n",
        "\n",
        "def f1_score(y_true, y_pred, average='micro', suffix=False):\n",
        "   \n",
        "    true_entities = set(get_entities(y_true, suffix))\n",
        "    pred_entities = set(get_entities(y_pred, suffix))\n",
        "\n",
        "    nb_correct = len(true_entities & pred_entities)\n",
        "    nb_pred = len(pred_entities)\n",
        "    nb_true = len(true_entities)\n",
        "\n",
        "    p = nb_correct / nb_pred if nb_pred > 0 else 0\n",
        "    r = nb_correct / nb_true if nb_true > 0 else 0\n",
        "    score = 2 * p * r / (p + r) if p + r > 0 else 0\n",
        "\n",
        "    return score\n",
        "\n",
        "def precision_score(y_true, y_pred, average='micro', suffix=False):\n",
        "   \n",
        "    true_entities = set(get_entities(y_true, suffix))\n",
        "    pred_entities = set(get_entities(y_pred, suffix))\n",
        "\n",
        "    nb_correct = len(true_entities & pred_entities)\n",
        "    nb_pred = len(pred_entities)\n",
        "\n",
        "    score = nb_correct / nb_pred if nb_pred > 0 else 0\n",
        "\n",
        "    return score\n",
        "\n",
        "def recall_score(y_true, y_pred, average='micro', suffix=False):\n",
        "  \n",
        "    true_entities = set(get_entities(y_true, suffix))\n",
        "    pred_entities = set(get_entities(y_pred, suffix))\n",
        "\n",
        "    nb_correct = len(true_entities & pred_entities)\n",
        "    nb_true = len(true_entities)\n",
        "\n",
        "    score = nb_correct / nb_true if nb_true > 0 else 0\n",
        "\n",
        "    return score\n"
      ],
      "execution_count": 0,
      "outputs": []
    },
    {
      "cell_type": "code",
      "metadata": {
        "id": "P042A2Ofg3wa",
        "colab_type": "code",
        "outputId": "ac4f4599-bda6-4cfc-baa4-d12d06277aeb",
        "colab": {
          "base_uri": "https://localhost:8080/",
          "height": 51
        }
      },
      "source": [
        "# count the number of NER label violations,\n",
        "# such as O followed by I-TYPE or B-TYPE followed by\n",
        "# I-OTHER_TYPE\n",
        "# Take tagger output as input\n",
        "\n",
        "def violations(tagged):\n",
        "  i=0\n",
        "  for item in tagged:\n",
        "    for count in range(len(item)-1):\n",
        "      if (item[count][2][0]=='O') and (item[count+1][2][0]=='I'):\n",
        "        i=i+1\n",
        "      elif (item[count][2][0]=='B') and (item[count+1][2][0]=='I') and (item[count][2][2:]!=item[count+1][2][2:]):\n",
        "        i=i+1\n",
        "  return i\n",
        "\n",
        "# return the span-level precision, recall, and F1\n",
        "# Take tagger output as input\n",
        "def span_stats(tagged):\n",
        "  y_true=[]\n",
        "  y_pred=[]\n",
        "  for item in tagged:\n",
        "    y1=[]\n",
        "    y2=[]\n",
        "    for count in range(len(item)):\n",
        "      y1.append(item[count][1])\n",
        "      y2.append(item[count][2])\n",
        "    y_true.append(y1)\n",
        "    y_pred.append(y2)\n",
        "  precision=precision_score(y_true, y_pred)\n",
        "  recall=recall_score(y_true, y_pred)\n",
        "  f1=f1_score(y_true, y_pred)\n",
        "  # acc=accuracy_score(y_true, y_pred)\n",
        "  return {'precision': precision,\n",
        "          'recall': recall,\n",
        "          'f1': f1}\n",
        "## check how many violations are made by the model output in predictor.\n",
        "# print(violations(baseline_output))\n",
        "print(\"violations: %d\"  % violations(baseline_output))\n",
        "print(span_stats(baseline_output))"
      ],
      "execution_count": 0,
      "outputs": [
        {
          "output_type": "stream",
          "text": [
            "violations: 30\n",
            "{'precision': 0.2727272727272727, 'recall': 0.20930232558139536, 'f1': 0.23684210526315788}\n"
          ],
          "name": "stdout"
        }
      ]
    },
    {
      "cell_type": "markdown",
      "metadata": {
        "id": "fX7-quD2hnzB",
        "colab_type": "text"
      },
      "source": [
        "## Decoding"
      ]
    },
    {
      "cell_type": "markdown",
      "metadata": {
        "id": "WCgW9d9ohsGv",
        "colab_type": "text"
      },
      "source": [
        "Finally implement the simple Viterbi decoder. The `predictor` object, when applied to an input sentence, first calculates the scores for each possible output tag for each token. See the line `predictor.predict_instance(i)['tag_logits']` in the code above.\n",
        "\n",
        "Then, construct a transition matrix. I use the code below to get a list of the tags the model knows about. For a set of K tags, construct a K-by-K matrix with a log(1)=0 when a transition between a given tag pair is valid and a log(0)=-infinity otherwise.\n",
        "\n",
        "Finally, implement a Viterbi decoder that takes the predictor object and a dataset object and outputs tagged data, just like the `tag_sentence` function above. It should use the Viterbi algorithm with the (max, plus) semiring. You'll be working with sums of log probabilities instead of products of probabilties.\n",
        "\n",
        "Run `violations` function on the output of this decoder to make sure that there are no invalid tag transitions. Also, compare the span-level metrics on `baseline_output` and your new output using your `span_stats` function."
      ]
    },
    {
      "cell_type": "code",
      "metadata": {
        "id": "nlP8vZhiS68K",
        "colab_type": "code",
        "outputId": "72a9fb00-a012-4a75-b525-0475e44ee45a",
        "colab": {
          "base_uri": "https://localhost:8080/",
          "height": 54
        }
      },
      "source": [
        "# This code show how to map from output vector components to labels\n",
        "print(vocab.get_index_to_token_vocabulary('labels'))"
      ],
      "execution_count": 0,
      "outputs": [
        {
          "output_type": "stream",
          "text": [
            "{0: 'O', 1: 'B-GPE', 2: 'I-ORG', 3: 'I-DATE', 4: 'B-CARDINAL', 5: 'I-EVENT', 6: 'B-PERSON', 7: 'B-NORP', 8: 'B-DATE', 9: 'B-ORG', 10: 'B-LOC', 11: 'I-LOC', 12: 'I-FAC', 13: 'I-PERSON', 14: 'I-GPE', 15: 'I-CARDINAL', 16: 'B-EVENT', 17: 'I-TIME', 18: 'I-WORK_OF_ART', 19: 'B-ORDINAL', 20: 'B-FAC', 21: 'B-TIME', 22: 'I-LAW', 23: 'I-QUANTITY', 24: 'I-NORP', 25: 'I-MONEY', 26: 'B-MONEY', 27: 'B-WORK_OF_ART', 28: 'B-QUANTITY', 29: 'B-LAW', 30: 'B-PRODUCT', 31: 'I-PRODUCT', 32: 'B-PERCENT', 33: 'I-PERCENT'}\n"
          ],
          "name": "stdout"
        }
      ]
    },
    {
      "cell_type": "code",
      "metadata": {
        "id": "vT4rORvzIC0C",
        "colab_type": "code",
        "colab": {}
      },
      "source": [
        "# Creating transition matrix\n",
        "tags=vocab.get_index_to_token_vocabulary('labels')\n",
        "\n",
        "def replace_tags(search_value):\n",
        "  for key, value in tags.items():\n",
        "    if value==search_value:\n",
        "      return key\n",
        "\n",
        "tags2=[*tags.values()]\n",
        "\n",
        "M = [[1]*len(tags) for _ in range(len(tags))]\n",
        "\n",
        "for i in tags2:\n",
        "  for j in tags2:\n",
        "    if (i[0]=='O') and (j[0]=='I'):\n",
        "      M[replace_tags(i)][replace_tags(j)]=float(\"-inf\")\n",
        "    elif (i[0]=='B') and (j[0]=='I') and (i[2:]!=j[2:]):\n",
        "      M[replace_tags(i)][replace_tags(j)]=float(\"-inf\")\n",
        "    elif (i[0]=='I') and (j[0]=='I') and (i[2:]!=j[2:]):\n",
        "      M[replace_tags(i)][replace_tags(j)]=float(\"-inf\")\n",
        "    else:\n",
        "      M[replace_tags(i)][replace_tags(j)]=0\n",
        "\n",
        "# for row in M:\n",
        "#     print(row)"
      ],
      "execution_count": 0,
      "outputs": []
    },
    {
      "cell_type": "code",
      "metadata": {
        "id": "Cc0uv2qa85He",
        "colab_type": "code",
        "colab": {}
      },
      "source": [
        "# adding emission probabilities with transition matrix\n",
        "def test(s):\n",
        "  item=predictor.predict_instance(s)['tag_logits']\n",
        "  x=[]\n",
        "  x1=[]\n",
        "  for j in item:\n",
        "    y=[]\n",
        "    if item.index(j)==0: ## first word of every sentences -- do nothing\n",
        "      for k in j:\n",
        "        y.append(k+0)\n",
        "      find_ind=np.argmax(y,axis=-1)\n",
        "    else:\n",
        "      for k in j:\n",
        "        modify=k+M[find_ind][j.index(k)]\n",
        "        y.append(modify)     \n",
        "      find_ind=np.argmax(y,axis=-1)  \n",
        "    x.append(y)\n",
        "    x1.append(tags.get(find_ind))\n",
        "    \n",
        "  new = zip(s['tokens'], s['tags'], [i for i in x1])\n",
        "  return list(new)\n",
        "\n",
        "test_output = [(test(i)) for i in validation_dataset]\n",
        "\n"
      ],
      "execution_count": 0,
      "outputs": []
    },
    {
      "cell_type": "code",
      "metadata": {
        "id": "rjy0LhgHDlKx",
        "colab_type": "code",
        "outputId": "0a9955cd-d110-4a60-8201-d87e958fa471",
        "colab": {
          "base_uri": "https://localhost:8080/",
          "height": 136
        }
      },
      "source": [
        "print(\"-------new_output--------\")\n",
        "print(\"violations: %d\"  % violations(test_output))\n",
        "print(span_stats(test_output))\n",
        "print(\" \")\n",
        "print(\"-----baseline_output-----\")\n",
        "print(\"violations: %d\"  % violations(baseline_output))\n",
        "print(span_stats(baseline_output))"
      ],
      "execution_count": 0,
      "outputs": [
        {
          "output_type": "stream",
          "text": [
            "-------new_output--------\n",
            "violations: 0\n",
            "{'precision': 0.26, 'recall': 0.3023255813953488, 'f1': 0.27956989247311825}\n",
            " \n",
            "-----baseline_output-----\n",
            "violations: 30\n",
            "{'precision': 0.2727272727272727, 'recall': 0.20930232558139536, 'f1': 0.23684210526315788}\n"
          ],
          "name": "stdout"
        }
      ]
    }
  ]
}